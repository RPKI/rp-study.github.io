{
 "cells": [
  {
   "cell_type": "code",
   "execution_count": 1,
   "metadata": {},
   "outputs": [],
   "source": [
    "# import and init libraries\n",
    "\n",
    "from pandas import DataFrame, read_csv\n",
    "\n",
    "import matplotlib\n",
    "import matplotlib.pyplot as plt\n",
    "import pandas as pd\n",
    "import seaborn as sns\n",
    "import sys\n",
    "\n",
    "# avoiding type 3 fonts: http://phyletica.org/matplotlib-fonts/\n",
    "matplotlib.rcParams['pdf.fonttype'] = 42\n",
    "matplotlib.rcParams['ps.fonttype'] = 42\n",
    "\n",
    "# enable inline plotting\n",
    "%matplotlib inline\n",
    "\n",
    "#sns.set(style=\"white\")"
   ]
  },
  {
   "cell_type": "code",
   "execution_count": 2,
   "metadata": {
    "scrolled": true
   },
   "outputs": [],
   "source": [
    "CDF = 'imc20/data/cdf-rp.dat'\n",
    "\n",
    "cdf = pd.read_csv(CDF,\n",
    "                delim_whitespace=True,\n",
    "                names=['RPs', 'CDF'],\n",
    "                index_col=0)"
   ]
  },
  {
   "cell_type": "code",
   "execution_count": 3,
   "metadata": {
    "scrolled": true
   },
   "outputs": [
    {
     "data": {
      "image/png": "[encoded data removed]",
      "text/plain": [
       "<Figure size 460.8x172.8 with 1 Axes>"
      ]
     },
     "metadata": {
      "needs_background": "light"
     },
     "output_type": "display_data"
    }
   ],
   "source": [
    "df = pd.DataFrame(cdf)\n",
    "ax = df.plot(kind='line', linestyle='', marker=\"o\", legend=None, figsize=(6.4, 2.4))\n",
    "ax.set_ylabel('CDF')\n",
    "ax.set_xlabel('Relying Parties [# IP addresses per origin ASN]')\n",
    "ax.set_xscale('log')\n",
    "ax.grid(False)\n",
    "\n",
    "#ax.spines[\"top\"].set_visible(False)\n",
    "#ax.spines[\"right\"].set_visible(False)\n",
    "\n",
    "ax.tick_params(which='minor', bottom=True)\n",
    "\n",
    "# save and explicitly close figure\n",
    "fig = ax.get_figure()\n",
    "fig.savefig(\"imc20/cdf-rp.pdf\", bbox_inches='tight') # tight removes whitespace borders\n",
    "plt.show()\n",
    "plt.close(fig)"
   ]
  }
 ],
 "metadata": {
  "kernelspec": {
   "display_name": "Python 3",
   "language": "python",
   "name": "python3"
  },
  "language_info": {
   "codemirror_mode": {
    "name": "ipython",
    "version": 3
   },
   "file_extension": ".py",
   "mimetype": "text/x-python",
   "name": "python",
   "nbconvert_exporter": "python",
   "pygments_lexer": "ipython3",
   "version": "3.6.8"
  }
 },
 "nbformat": 4,
 "nbformat_minor": 4
}
